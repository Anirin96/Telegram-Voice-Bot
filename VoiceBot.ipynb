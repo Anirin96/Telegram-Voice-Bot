{
 "cells": [
  {
   "cell_type": "markdown",
   "metadata": {},
   "source": [
    "Подключение библиотек"
   ]
  },
  {
   "cell_type": "code",
   "execution_count": 40,
   "metadata": {},
   "outputs": [],
   "source": [
    "import telebot\n",
    "import os\n",
    "import speech_recognition\n",
    "from pydub import AudioSegment"
   ]
  },
  {
   "cell_type": "markdown",
   "metadata": {},
   "source": [
    "Создание бота"
   ]
  },
  {
   "cell_type": "code",
   "execution_count": 41,
   "metadata": {},
   "outputs": [],
   "source": [
    "token = '6874102761:AAFyjBU_JP1oFf47UkOQ-REQSZ2RqD0kodg'\n",
    "bot = telebot.TeleBot(token)"
   ]
  },
  {
   "cell_type": "markdown",
   "metadata": {},
   "source": [
    "Преобразование формата аудио .oga в .wav"
   ]
  },
  {
   "cell_type": "code",
   "execution_count": 42,
   "metadata": {},
   "outputs": [],
   "source": [
    "def ogaTowav(filename):\n",
    "    # Переименование формата 'sample.oga' в 'sample.wav'\n",
    "    new_filename = filename.replace('.oga', '.wav')\n",
    "    # Чтение файла с диска\n",
    "    audio = AudioSegment.from_file(filename)\n",
    "    # Экспорт файла в новом формате\n",
    "    audio.export(new_filename, format='wav')\n",
    "    # Возврат имени нового файла как результата функции\n",
    "    return new_filename"
   ]
  },
  {
   "cell_type": "markdown",
   "metadata": {},
   "source": [
    "Преобразование голоса в текст"
   ]
  },
  {
   "cell_type": "code",
   "execution_count": 43,
   "metadata": {},
   "outputs": [],
   "source": [
    "def recognize_speech(oga_filename):\n",
    "    wav_filename = ogaTowav(oga_filename)\n",
    "    recognizer = speech_recognition.Recognizer()\n",
    "    \n",
    "    with speech_recognition.WavFile(wav_filename) as source:\n",
    "        wav_audio = recognizer.record(source)\n",
    "    \n",
    "    text = recognizer.recognize_google(wav_audio, language='ru')\n",
    "    \n",
    "    # Удаление ненужных файлов с диска\n",
    "    if os.path.exists(oga_filename):\n",
    "        os.remove(oga_filename)\n",
    "    if os.path.exists(wav_filename):\n",
    "        os.remove(wav_filename)\n",
    "    \n",
    "    return text"
   ]
  },
  {
   "cell_type": "markdown",
   "metadata": {},
   "source": [
    "Скачивание файла, который прислал пользователь"
   ]
  },
  {
   "cell_type": "code",
   "execution_count": 44,
   "metadata": {},
   "outputs": [],
   "source": [
    "def download_file(bot, file_id):\n",
    "    # Получение информации о файле:\n",
    "    file_info = bot.get_file(file_id)\n",
    "\n",
    "    # Загрузка файла с помощью функции bot.download_file\n",
    "    # по информации о файле file_info.file_path\n",
    "    downloaded_file = bot.download_file(file_info.file_path)\n",
    "\n",
    "    # Создание уникального имени файла:\n",
    "    filename = file_id + file_info.file_path\n",
    "\n",
    "    # Имя файла имеет вид 'voice/file_123.oga', замена \"/\" на \"_\"\n",
    "    filename = filename.replace('/', '_')\n",
    "\n",
    "    with open(filename, 'wb') as f:\n",
    "        f.write(downloaded_file)\n",
    "\n",
    "    return filename"
   ]
  },
  {
   "cell_type": "markdown",
   "metadata": {},
   "source": [
    "Функция приветствия"
   ]
  },
  {
   "cell_type": "code",
   "execution_count": 45,
   "metadata": {},
   "outputs": [],
   "source": [
    "@bot.message_handler(commands=['start'])\n",
    "def say_hello(message):\n",
    "    username = message.from_user.first_name\n",
    "    if username is None:\n",
    "        username = message.from_user.username\n",
    "    bot.send_message(message.chat.id, f'Здравствуй, {username}!')"
   ]
  },
  {
   "cell_type": "markdown",
   "metadata": {},
   "source": [
    "Новое условие срабатывания на голосовое сообщение "
   ]
  },
  {
   "cell_type": "code",
   "execution_count": 46,
   "metadata": {},
   "outputs": [],
   "source": [
    "# Новое условие: content_types=['voice']\n",
    "@bot.message_handler(content_types=['voice'])\n",
    "def transcript(message):\n",
    "    filename = download_file(bot, message.voice.file_id)\n",
    "    \n",
    "    # Распознание записи с помощью функции recognize_speech\n",
    "    text = recognize_speech(filename)\n",
    "\n",
    "    # Вывод текста в ответ пользователю\n",
    "    bot.send_message(message.chat.id, text)"
   ]
  },
  {
   "cell_type": "markdown",
   "metadata": {},
   "source": [
    "Запуск бота"
   ]
  },
  {
   "cell_type": "code",
   "execution_count": 47,
   "metadata": {},
   "outputs": [],
   "source": [
    "bot.polling()"
   ]
  }
 ],
 "metadata": {
  "kernelspec": {
   "display_name": "Python 3",
   "language": "python",
   "name": "python3"
  },
  "language_info": {
   "codemirror_mode": {
    "name": "ipython",
    "version": 3
   },
   "file_extension": ".py",
   "mimetype": "text/x-python",
   "name": "python",
   "nbconvert_exporter": "python",
   "pygments_lexer": "ipython3",
   "version": "3.12.1"
  }
 },
 "nbformat": 4,
 "nbformat_minor": 2
}
